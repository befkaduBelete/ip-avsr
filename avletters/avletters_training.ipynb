{
 "cells": [
  {
   "cell_type": "markdown",
   "metadata": {
    "collapsed": true
   },
   "source": [
    "# Training a Multimodal Network for the AVLetters Dataset"
   ]
  },
  {
   "cell_type": "markdown",
   "metadata": {},
   "source": [
    "This guide describes how to train a multimodal network using raw, dct features and difference of images as input sources."
   ]
  },
  {
   "cell_type": "markdown",
   "metadata": {},
   "source": [
    "## Prerequisites"
   ]
  },
  {
   "cell_type": "markdown",
   "metadata": {},
   "source": [
    "We assume the following config file `trimodal.ini` is used. All finetuned DBNF extractors for raw and difference of image are saved in the respective files defined in the config file:\n",
    "\n",
    "```ini\n",
    "[general]\n",
    "disable_matplotlib: true\n",
    "\n",
    "[data]\n",
    "images: data/resized.mat\n",
    "dct: data/dctFeat_matlab_AVLetters.mat\n",
    "diff: data/resized_diff_image_AVLetters.mat\n",
    "\n",
    "[models]\n",
    "pretrained: models/avletters_ae.mat\n",
    "finetuned: models/avletters_ae_finetune.dat\n",
    "pretrained_diff: models/avletters_ae_diff_image.mat\n",
    "finetuned_diff: models/avletters_ae_finetune_diff_image.dat\n",
    "fusiontype: sum\n",
    "\n",
    "[training]\n",
    "learning_rate: 2.0\n",
    "decay_rate: 0.8\n",
    "decay_start: 10\n",
    "do_finetune = false\n",
    "save_finetune = false\n",
    "load_finetune = true\n",
    "load_finetune_diff = true\n",
    "```"
   ]
  },
  {
   "cell_type": "markdown",
   "metadata": {},
   "source": [
    "## Import python packages"
   ]
  },
  {
   "cell_type": "code",
   "execution_count": 43,
   "metadata": {
    "collapsed": false
   },
   "outputs": [],
   "source": [
    "%matplotlib inline\n",
    "from __future__ import print_function\n",
    "import sys\n",
    "sys.path.insert(0, '../')\n",
    "import os\n",
    "import time\n",
    "import cPickle as pickle\n",
    "import logging\n",
    "import ConfigParser\n",
    "import argparse\n",
    "\n",
    "import theano.tensor as T\n",
    "import theano\n",
    "\n",
    "import matplotlib\n",
    "# matplotlib.use('Agg')  # Change matplotlib backend, in case we have no X server running..\n",
    "\n",
    "from utils.preprocessing import *\n",
    "from utils.plotting_utils import *\n",
    "from utils.data_structures import circular_list\n",
    "from utils.datagen import *\n",
    "from utils.io import *\n",
    "from utils.draw_net import *\n",
    "from custom_layers.custom import DeltaLayer\n",
    "from modelzoo import adenet_v1, deltanet, adenet_v2, adenet_v3, adenet_v4, adenet_v5, adenet_v6\n",
    "\n",
    "import numpy as np\n",
    "from lasagne.layers import InputLayer, DenseLayer, DropoutLayer, LSTMLayer, Gate, ElemwiseSumLayer, SliceLayer\n",
    "from lasagne.layers import ReshapeLayer, DimshuffleLayer, ConcatLayer, BatchNormLayer, batch_norm\n",
    "from lasagne.nonlinearities import tanh, linear, sigmoid, rectify, leaky_rectify\n",
    "from lasagne.updates import nesterov_momentum, adadelta, sgd, norm_constraint\n",
    "from lasagne.objectives import squared_error\n",
    "from nolearn.lasagne import NeuralNet"
   ]
  },
  {
   "cell_type": "markdown",
   "metadata": {},
   "source": [
    "## Configure theano\n",
    "\n",
    "Configure theano to use `float32` as default float size so it is compatible to gpus, increase the recursion depth to 10000."
   ]
  },
  {
   "cell_type": "code",
   "execution_count": 27,
   "metadata": {
    "collapsed": true
   },
   "outputs": [],
   "source": [
    "def configure_theano():\n",
    "    theano.config.floatX = 'float32'\n",
    "    sys.setrecursionlimit(10000)\n",
    "    \n",
    "configure_theano()"
   ]
  },
  {
   "cell_type": "markdown",
   "metadata": {},
   "source": [
    "## Define a Method to Evaluate the Learnt Model"
   ]
  },
  {
   "cell_type": "code",
   "execution_count": 28,
   "metadata": {
    "collapsed": true
   },
   "outputs": [],
   "source": [
    "def evaluate_model(X_val, y_val, mask_val, dct_val, diff_val, window_size, eval_fn):\n",
    "    \"\"\"\n",
    "    Evaluate a lstm model\n",
    "    :param X_val: validation inputs\n",
    "    :param y_val: validation targets\n",
    "    :param mask_val: input masks for variable sequences\n",
    "    :param dct_val: dct features\n",
    "    :param diff_val: diff image features\n",
    "    :param window_size: size of window for computing delta coefficients\n",
    "    :param eval_fn: evaluation function\n",
    "    :return: classification rate, confusion matrix\n",
    "    \"\"\"\n",
    "    output = eval_fn(X_val, mask_val, dct_val, diff_val, window_size)\n",
    "    no_gps = output.shape[1]\n",
    "    confusion_matrix = np.zeros((no_gps, no_gps), dtype='int')\n",
    "\n",
    "    ix = np.argmax(output, axis=1)\n",
    "    c = ix == y_val\n",
    "    classification_rate = np.sum(c == True) / float(len(c))\n",
    "\n",
    "    # construct the confusion matrix\n",
    "    for i, target in enumerate(y_val):\n",
    "        confusion_matrix[target, ix[i]] += 1\n",
    "\n",
    "    return classification_rate, confusion_matrix"
   ]
  },
  {
   "cell_type": "markdown",
   "metadata": {},
   "source": [
    "## Load Config File"
   ]
  },
  {
   "cell_type": "code",
   "execution_count": 29,
   "metadata": {
    "collapsed": false
   },
   "outputs": [
    {
     "name": "stdout",
     "output_type": "stream",
     "text": [
      "Reading Config File: config/trimodal.ini...\n",
      "[('images', 'data/resized.mat'), ('dct', 'data/dctFeat_matlab_AVLetters.mat'), ('diff', 'data/resized_diff_image_AVLetters.mat')]\n",
      "[('pretrained', 'models/avletters_ae.mat'), ('finetuned', 'models/avletters_ae_finetune.dat'), ('pretrained_diff', 'models/avletters_ae_diff_image.mat'), ('finetuned_diff', 'models/avletters_ae_finetune_diff_image.dat'), ('fusiontype', 'sum')]\n",
      "[('learning_rate', '2.0'), ('decay_rate', '0.8'), ('decay_start', '10'), ('do_finetune', 'false'), ('save_finetune', 'false'), ('load_finetune', 'true'), ('load_finetune_diff', 'true')]\n"
     ]
    }
   ],
   "source": [
    "config_file = 'config/trimodal.ini'\n",
    "config = ConfigParser.ConfigParser()\n",
    "config.read(config_file)\n",
    "\n",
    "print('Reading Config File: {}...'.format(config_file))\n",
    "print(config.items('data'))\n",
    "print(config.items('models'))\n",
    "print(config.items('training'))"
   ]
  },
  {
   "cell_type": "markdown",
   "metadata": {},
   "source": [
    "## Preprocess Input Sources\n",
    "\n",
    "Note that the `.mat` files are loaded as python `dict` and we assume they are named according to the code. In this case, the raw images are already samplewise normalized so there is no need to normalize them again. However if there is a need to do that, you can call the following procedure:\n",
    "\n",
    "```python\n",
    "# samplewise normalize\n",
    "print('sameplewise mean normalize...')\n",
    "data_matrix = normalize_input(data_matrix)\n",
    "diff_data_matrix = normalize_input(diff_data_matrix)\n",
    "diff_data_matrix = compute_diff_images(data_matrix, vid_len_vec.reshape((-1,))).astype('float32')\n",
    "```"
   ]
  },
  {
   "cell_type": "code",
   "execution_count": 30,
   "metadata": {
    "collapsed": false
   },
   "outputs": [
    {
     "name": "stdout",
     "output_type": "stream",
     "text": [
      "loading data and configs...\n",
      "data and configs loaded...\n"
     ]
    }
   ],
   "source": [
    "print('loading data and configs...')\n",
    "data = load_mat_file(config.get('data', 'images'))\n",
    "dct_data = load_mat_file(config.get('data', 'dct'))\n",
    "diff_data = load_mat_file(config.get('data', 'diff'))\n",
    "ae_pretrained = config.get('models', 'pretrained')\n",
    "ae_finetuned = config.get('models', 'finetuned')\n",
    "ae_finetuned_diff = config.get('models', 'finetuned_diff')\n",
    "fusiontype = config.get('models', 'fusiontype')\n",
    "learning_rate = float(config.get('training', 'learning_rate'))\n",
    "decay_rate = float(config.get('training', 'decay_rate'))\n",
    "decay_start = int(config.get('training', 'decay_start'))\n",
    "do_finetune = config.getboolean('training', 'do_finetune')\n",
    "save_finetune = config.getboolean('training', 'save_finetune')\n",
    "load_finetune = config.getboolean('training', 'load_finetune')\n",
    "load_finetune_diff = config.getboolean('training', 'load_finetune_diff')\n",
    "\n",
    "# create the necessary variable mappings\n",
    "data_matrix = data['dataMatrix']\n",
    "data_matrix_len = data_matrix.shape[0]\n",
    "targets_vec = data['targetsVec']\n",
    "vid_len_vec = data['videoLengthVec']\n",
    "iter_vec = data['iterVec']\n",
    "dct_feats = dct_data['dctFeatures']\n",
    "diff_data_matrix = diff_data['dataMatrix']\n",
    "\n",
    "print('data and configs loaded...')"
   ]
  },
  {
   "cell_type": "markdown",
   "metadata": {},
   "source": [
    "## Split the data to training and test sets"
   ]
  },
  {
   "cell_type": "code",
   "execution_count": 31,
   "metadata": {
    "collapsed": false
   },
   "outputs": [
    {
     "name": "stdout",
     "output_type": "stream",
     "text": [
      "Data split complete...\n"
     ]
    }
   ],
   "source": [
    "indexes = create_split_index(data_matrix_len, vid_len_vec, iter_vec)\n",
    "train_vidlen_vec, test_vidlen_vec = split_videolen(vid_len_vec, iter_vec)\n",
    "assert len(train_vidlen_vec) == 520\n",
    "assert len(test_vidlen_vec) == 260\n",
    "assert np.sum(vid_len_vec) == data_matrix_len\n",
    "\n",
    "# split the data\n",
    "train_data = data_matrix[indexes == True]\n",
    "train_targets = targets_vec[indexes == True]\n",
    "train_targets = train_targets.reshape((len(train_targets),))\n",
    "test_data = data_matrix[indexes == False]\n",
    "test_targets = targets_vec[indexes == False]\n",
    "test_targets = test_targets.reshape((len(test_targets),))\n",
    "train_diff_data = diff_data_matrix[indexes == True]\n",
    "test_diff_data = diff_data_matrix[indexes == False]\n",
    "print('Data split complete...')"
   ]
  },
  {
   "cell_type": "markdown",
   "metadata": {},
   "source": [
    "## Perform Featurewise normalization on DCT Features\n",
    "\n",
    "To speed up training time, Hinton (2010) suggested normalizing the training inputs to 0 mean and standard deviation of 1. We apply this to the DCT Features using the following procedure:\n",
    "\n",
    "### Reference\n",
    "Hinton, G. (2010). A practical guide to training restricted Boltzmann machines. Momentum, 9(1), 926."
   ]
  },
  {
   "cell_type": "code",
   "execution_count": 32,
   "metadata": {
    "collapsed": false
   },
   "outputs": [
    {
     "name": "stdout",
     "output_type": "stream",
     "text": [
      "normaliztion complete...\n"
     ]
    }
   ],
   "source": [
    "# split the dct features + featurewise mean normalize\n",
    "train_dct = dct_feats[indexes == True].astype(np.float32)\n",
    "test_dct = dct_feats[indexes == False].astype(np.float32)\n",
    "train_dct, dct_mean, dct_std = featurewise_normalize_sequence(train_dct)\n",
    "test_dct = (test_dct - dct_mean) / dct_std\n",
    "print('normaliztion complete...')"
   ]
  },
  {
   "cell_type": "markdown",
   "metadata": {},
   "source": [
    "## Notes on Finetuning\n",
    "We assume the models have already been finetuned by if they are not finetuned, the following procedure can be used to perform finetuining, refer to the code `avletters/trimodal.py` for more details of finetuning. Note that the variables `ae_pretrained`, `ae_finetuned`, `do_finetune`, `save_finetune` can all be defined in the config file.\n",
    "\n",
    "```python\n",
    "do_finetune = True\n",
    "save_finetune = True\n",
    "if do_finetune:\n",
    "    print('fine-tuning...')\n",
    "    ae = load_dbn(ae_pretrained)\n",
    "    ae.initialize()\n",
    "    ae.fit(train_data, train_data)\n",
    "    res = ae.predict(test_data)\n",
    "    # print(res.shape)\n",
    "    visualize_reconstruction(test_data[300:336], res[300:336])\n",
    "\n",
    "if save_finetune:\n",
    "    pickle.dump(ae, open(ae_finetuned, 'wb'))\n",
    "```"
   ]
  },
  {
   "cell_type": "markdown",
   "metadata": {},
   "source": [
    "## Load Finetuned Models\n",
    "\n",
    "Now we load the already finetuned models for raw images and difference of images based on the config file."
   ]
  },
  {
   "cell_type": "code",
   "execution_count": 33,
   "metadata": {
    "collapsed": false
   },
   "outputs": [
    {
     "name": "stdout",
     "output_type": "stream",
     "text": [
      "loading pre-trained encoding layers...\n",
      "loading pre-trained diff image encoding layers...\n",
      "all finetuned models loaded...\n"
     ]
    }
   ],
   "source": [
    "print('loading pre-trained encoding layers...')\n",
    "ae = pickle.load(open(ae_finetuned, 'rb'))\n",
    "ae.initialize()\n",
    "\n",
    "print('loading pre-trained diff image encoding layers...')\n",
    "diff_ae = pickle.load(open(ae_finetuned_diff, 'rb'))\n",
    "diff_ae.initialize()\n",
    "\n",
    "print('all finetuned models loaded...')"
   ]
  },
  {
   "cell_type": "markdown",
   "metadata": {},
   "source": [
    "## Constructing the Model\n",
    "\n",
    "The following steps will create the End to End model using Theano. \n",
    "\n",
    "### Define Model Variables\n",
    "We first define the necessary theano variables to describe the model."
   ]
  },
  {
   "cell_type": "code",
   "execution_count": 34,
   "metadata": {
    "collapsed": false
   },
   "outputs": [],
   "source": [
    "inputs_raw = T.tensor3('inputs_raw', dtype='float32')\n",
    "inputs_diff = T.tensor3('inputs_diff', dtype='float32')\n",
    "window = T.iscalar('theta')\n",
    "dct = T.tensor3('dct', dtype='float32')\n",
    "mask = T.matrix('mask', dtype='uint8')\n",
    "targets = T.ivector('targets')\n",
    "lr = theano.shared(np.array(learning_rate, dtype=theano.config.floatX), name='learning_rate')\n",
    "lr_decay = np.array(decay_rate, dtype=theano.config.floatX)"
   ]
  },
  {
   "cell_type": "markdown",
   "metadata": {},
   "source": [
    "### Create Model\n",
    "\n",
    "Next we create the model `adenet_v3` by loading the package from `modelzoo`"
   ]
  },
  {
   "cell_type": "code",
   "execution_count": 35,
   "metadata": {
    "collapsed": false
   },
   "outputs": [
    {
     "name": "stdout",
     "output_type": "stream",
     "text": [
      "[L] raw_im: (None, None, 1200)\n",
      "[L] reshape1_raw: (None, 1200)\n",
      "[L] fc1_raw: (None, 2000)\n",
      "[L] fc2_raw: (None, 1000)\n",
      "[L] fc3_raw: (None, 500)\n",
      "[L] bottleneck_raw: (None, 50)\n",
      "[L] reshape2_raw: (None, None, 50)\n",
      "[L] delta_raw: (None, None, 150)\n",
      "[L] dropout_raw: (None, None, 150)\n",
      "[L] mask: (None, None)\n",
      "[L] lstm_raw: (None, None, 500)\n",
      "[L] dct: (None, None, 90)\n",
      "[L] dropout_dct: (None, None, 90)\n",
      "[L] lstm_dct: (None, None, 500)\n",
      "[L] diff_im: (None, None, 1200)\n",
      "[L] reshape1_diff: (None, 1200)\n",
      "[L] fc1_diff: (None, 2000)\n",
      "[L] fc2_diff: (None, 1000)\n",
      "[L] fc3_diff: (None, 500)\n",
      "[L] bottleneck_diff: (None, 50)\n",
      "[L] reshape2_diff: (None, None, 50)\n",
      "[L] delta_diff: (None, None, 150)\n",
      "[L] dropout_diff: (None, None, 150)\n",
      "[L] lstm_diff: (None, None, 500)\n",
      "[L] sum1: (None, None, 500)\n",
      "[L] dropout_agg: (None, None, 500)\n",
      "[L] f_lstm_agg: (None, None, 500)\n",
      "[L] b_lstm_agg: (None, None, 500)\n",
      "[L] sum2: (None, None, 500)\n",
      "[L] slice1: (None, 500)\n",
      "[L] output: (None, 26)\n"
     ]
    }
   ],
   "source": [
    "network, l_fuse = adenet_v3.create_model(ae, diff_ae, (None, None, 1200), inputs_raw,\n",
    "                                             (None, None), mask,\n",
    "                                             (None, None, 90), dct,\n",
    "                                             (None, None, 1200), inputs_diff,\n",
    "                                             250, window, 26,\n",
    "                                             fusiontype)\n",
    "print_network(network)"
   ]
  },
  {
   "cell_type": "markdown",
   "metadata": {},
   "source": [
    "## Compiling the Model\n",
    "Once the model has been constructed, we now compile the model by defining the cost, update and trainable parameters."
   ]
  },
  {
   "cell_type": "code",
   "execution_count": 36,
   "metadata": {
    "collapsed": false
   },
   "outputs": [
    {
     "name": "stdout",
     "output_type": "stream",
     "text": [
      "compiling model...\n",
      "model compiled...\n"
     ]
    }
   ],
   "source": [
    "print('compiling model...')\n",
    "predictions = las.layers.get_output(network, deterministic=False)\n",
    "all_params = las.layers.get_all_params(network, trainable=True)\n",
    "cost = T.mean(las.objectives.categorical_crossentropy(predictions, targets))\n",
    "updates = las.updates.adadelta(cost, all_params, learning_rate=lr)\n",
    "\n",
    "train = theano.function(\n",
    "    [inputs_raw, targets, mask, dct, inputs_diff, window],\n",
    "    cost, updates=updates, allow_input_downcast=True)\n",
    "compute_train_cost = theano.function([inputs_raw, targets, mask, dct, inputs_diff, window],\n",
    "                                     cost, allow_input_downcast=True)\n",
    "\n",
    "test_predictions = las.layers.get_output(network, deterministic=True)\n",
    "test_cost = T.mean(las.objectives.categorical_crossentropy(test_predictions, targets))\n",
    "compute_test_cost = theano.function(\n",
    "    [inputs_raw, targets, mask, dct, inputs_diff, window], test_cost, allow_input_downcast=True)\n",
    "\n",
    "val_fn = theano.function([inputs_raw, mask, dct, inputs_diff, window], test_predictions, allow_input_downcast=True)\n",
    "print('model compiled...')"
   ]
  },
  {
   "cell_type": "markdown",
   "metadata": {},
   "source": [
    "## Training\n",
    "\n",
    "### Set training parameters\n",
    "We now create the training loop by first setting the training parameters:"
   ]
  },
  {
   "cell_type": "code",
   "execution_count": 37,
   "metadata": {
    "collapsed": false
   },
   "outputs": [
    {
     "name": "stdout",
     "output_type": "stream",
     "text": [
      "begin training...\n"
     ]
    }
   ],
   "source": [
    "print('begin training...')\n",
    "cost_train = []\n",
    "cost_val = []\n",
    "class_rate = []\n",
    "NUM_EPOCHS = 25\n",
    "EPOCH_SIZE = 20\n",
    "BATCH_SIZE = 26\n",
    "WINDOW_SIZE = 9\n",
    "STRIP_SIZE = 3\n",
    "MAX_LOSS = 0.2\n",
    "VALIDATION_WINDOW = 4\n",
    "val_window = circular_list(VALIDATION_WINDOW)\n",
    "train_strip = np.zeros((STRIP_SIZE,))\n",
    "best_val = float('inf')\n",
    "best_conf = None\n",
    "best_cr = 0.0"
   ]
  },
  {
   "cell_type": "markdown",
   "metadata": {},
   "source": [
    "### Create Minibatches\n",
    "Next we define the data generators to generate inputs for each minibatch, we use a random batch iterator to generate minibatches of 26 utterances for each epoch. See settings above."
   ]
  },
  {
   "cell_type": "code",
   "execution_count": 39,
   "metadata": {
    "collapsed": false
   },
   "outputs": [
    {
     "name": "stdout",
     "output_type": "stream",
     "text": [
      "data generators created...\n"
     ]
    }
   ],
   "source": [
    "datagen = gen_lstm_batch_random(train_data, train_targets, train_vidlen_vec, batchsize=BATCH_SIZE)\n",
    "val_datagen = gen_lstm_batch_random(test_data, test_targets, test_vidlen_vec,\n",
    "                                    batchsize=len(test_vidlen_vec))\n",
    "integral_lens = compute_integral_len(train_vidlen_vec)\n",
    "\n",
    "# We'll use this \"validation set\" to periodically check progress\n",
    "X_val, y_val, mask_val, idxs_val = next(val_datagen)\n",
    "integral_lens_val = compute_integral_len(test_vidlen_vec)\n",
    "dct_val = gen_seq_batch_from_idx(test_dct, idxs_val, test_vidlen_vec, integral_lens_val, np.max(test_vidlen_vec))\n",
    "diff_val = gen_seq_batch_from_idx(test_diff_data, idxs_val,\n",
    "                                  test_vidlen_vec, integral_lens_val, np.max(test_vidlen_vec))\n",
    "print('data generators created...')"
   ]
  },
  {
   "cell_type": "markdown",
   "metadata": {},
   "source": [
    "#### Early Stopping\n",
    "To avoid running unnecessary training epochs especially when the model has overfitted we define an early stopping strategy based on the paper by Prechelt (1998). The idea is to stop when the validation cost has increased consecutively for more than a predefined number of epochs (set to 4 by default).\n",
    "\n",
    "**Reference** <br>\n",
    "Prechelt, L. (1998). Early stopping-but when?. In Neural Networks: Tricks of the trade (pp. 55-69). Springer Berlin Heidelberg."
   ]
  },
  {
   "cell_type": "code",
   "execution_count": 40,
   "metadata": {
    "collapsed": true
   },
   "outputs": [],
   "source": [
    "def early_stop(cost_window):\n",
    "    if len(cost_window) < 2:\n",
    "        return False\n",
    "    else:\n",
    "        curr = cost_window[0]\n",
    "        for idx, cost in enumerate(cost_window):\n",
    "            if curr < cost or idx == 0:\n",
    "                curr = cost\n",
    "            else:\n",
    "                return False\n",
    "        return True"
   ]
  },
  {
   "cell_type": "markdown",
   "metadata": {},
   "source": [
    "### Begin Training Loop\n",
    "We run the training for a maximum of 25 epochs with an early stopping window of 4. During each training epoch, we evaluate the model against the validation set and determine its classification rate. This is in accordance to the testing protocol defined by Zhao, G (2009).\n",
    "\n",
    "**Reference** <br>\n",
    "Zhao, G., Barnard, M., & Pietikainen, M. (2009). Lipreading with local spatiotemporal descriptors. IEEE Transactions on Multimedia, 11(7), 1254-1265."
   ]
  },
  {
   "cell_type": "code",
   "execution_count": 41,
   "metadata": {
    "collapsed": false
   },
   "outputs": [
    {
     "name": "stdout",
     "output_type": "stream",
     "text": [
      "Epoch 1 train cost = 2.64442396164, validation cost = 3.11131930351, generalization loss = 0.000, GQ = 0.000, classification rate = 0.092 (104.3sec)\n",
      "Epoch 2 train cost = 2.20472049713, validation cost = 2.84998130798, generalization loss = 0.000, GQ = 0.000, classification rate = 0.138 (103.9sec)\n",
      "Epoch 3 train cost = 2.26433587074, validation cost = 2.66919016838, generalization loss = 0.000, GQ = 0.000, classification rate = 0.154 (113.1sec)\n",
      "Epoch 4 train cost = 1.62304961681, validation cost = 2.35263562202, generalization loss = 0.000, GQ = 0.000, classification rate = 0.238 (103.7sec)\n",
      "Epoch 5 train cost = 1.16199123859, validation cost = 2.45855951309, generalization loss = 4.502, GQ = 0.010, classification rate = 0.238 (108.5sec)\n",
      "Epoch 6 train cost = 0.782256484032, validation cost = 2.1610159874, generalization loss = 0.000, GQ = 0.000, classification rate = 0.342 (105.7sec)\n",
      "Epoch 7 train cost = 0.819062113762, validation cost = 1.751973629, generalization loss = 0.000, GQ = 0.000, classification rate = 0.415 (104.1sec)\n",
      "Epoch 8 train cost = 0.5740686059, validation cost = 1.81879210472, generalization loss = 3.814, GQ = 0.014, classification rate = 0.385 (107.5sec)\n",
      "Epoch 9 train cost = 0.831163764, validation cost = 1.73932647705, generalization loss = 0.000, GQ = 0.000, classification rate = 0.408 (106.1sec)\n",
      "Epoch 10 train cost = 0.411618888378, validation cost = 1.74779379368, generalization loss = 0.487, GQ = 0.001, classification rate = 0.419 (111.3sec)\n",
      "Epoch 11 train cost = 0.5067704916, validation cost = 1.42050635815, generalization loss = 0.000, GQ = 0.000, classification rate = 0.531 (109.1sec)\n",
      "Epoch 12 train cost = 0.179351001978, validation cost = 1.30355358124, generalization loss = 0.000, GQ = 0.000, classification rate = 0.573 (112.8sec)\n",
      "Epoch 13 train cost = 0.180184856057, validation cost = 1.47159349918, generalization loss = 12.891, GQ = 0.021, classification rate = 0.608 (109.8sec)\n",
      "Epoch 14 train cost = 0.0779161378741, validation cost = 1.35504519939, generalization loss = 3.950, GQ = 0.005, classification rate = 0.631 (106.7sec)\n",
      "Epoch 15 train cost = 0.161790624261, validation cost = 1.28468763828, generalization loss = 0.000, GQ = 0.000, classification rate = 0.635 (111.1sec)\n",
      "Epoch 16 train cost = 0.0342260561883, validation cost = 1.35430073738, generalization loss = 5.419, GQ = 0.003, classification rate = 0.635 (114.6sec)\n",
      "Epoch 17 train cost = 0.0643364936113, validation cost = 1.28616297245, generalization loss = 0.115, GQ = 0.000, classification rate = 0.662 (107.8sec)\n",
      "Epoch 18 train cost = 0.0745264142752, validation cost = 1.31340515614, generalization loss = 2.235, GQ = 0.003, classification rate = 0.658 (109.9sec)\n",
      "Epoch 19 train cost = 0.0765072628856, validation cost = 1.32719993591, generalization loss = 3.309, GQ = 0.029, classification rate = 0.669 (108.3sec)\n",
      "Epoch 20 train cost = 0.039997395128, validation cost = 1.35604810715, generalization loss = 5.555, GQ = 0.009, classification rate = 0.665 (110.9sec)\n"
     ]
    }
   ],
   "source": [
    "for epoch in range(NUM_EPOCHS):\n",
    "    time_start = time.time()\n",
    "    for i in range(EPOCH_SIZE):\n",
    "        X, y, m, batch_idxs = next(datagen)\n",
    "        d = gen_seq_batch_from_idx(train_dct, batch_idxs,\n",
    "                                   train_vidlen_vec, integral_lens, np.max(train_vidlen_vec))\n",
    "        diff = gen_seq_batch_from_idx(train_diff_data, batch_idxs,\n",
    "                                      train_vidlen_vec, integral_lens, np.max(train_vidlen_vec))\n",
    "        print_str = 'Epoch {} batch {}/{}: {} examples at learning rate = {:.4f}'.format(\n",
    "            epoch + 1, i + 1, EPOCH_SIZE, len(X), float(lr.get_value()))\n",
    "        print(print_str, end='')\n",
    "        sys.stdout.flush()\n",
    "        train(X, y, m, d, diff, WINDOW_SIZE)\n",
    "        print('\\r', end='')\n",
    "    cost = compute_train_cost(X, y, m, d, diff, WINDOW_SIZE)\n",
    "    val_cost = compute_test_cost(X_val, y_val, mask_val, dct_val, diff_val, WINDOW_SIZE)\n",
    "    cost_train.append(cost)\n",
    "    cost_val.append(val_cost)\n",
    "    train_strip[epoch % STRIP_SIZE] = cost\n",
    "    val_window.push(val_cost)\n",
    "\n",
    "    gl = 100 * (cost_val[-1] / np.min(cost_val) - 1)\n",
    "    pk = 1000 * (np.sum(train_strip) / (STRIP_SIZE * np.min(train_strip)) - 1)\n",
    "    pq = gl / pk\n",
    "\n",
    "    cr, val_conf = evaluate_model(X_val, y_val, mask_val, dct_val, diff_val, WINDOW_SIZE, val_fn)\n",
    "    class_rate.append(cr)\n",
    "\n",
    "    print(\"Epoch {} train cost = {}, validation cost = {}, \"\n",
    "          \"generalization loss = {:.3f}, GQ = {:.3f}, classification rate = {:.3f} ({:.1f}sec)\"\n",
    "          .format(epoch + 1, cost_train[-1], cost_val[-1], gl, pq, cr, time.time() - time_start))\n",
    "\n",
    "    if val_cost < best_val:\n",
    "        best_val = val_cost\n",
    "        best_conf = val_conf\n",
    "        best_cr = cr\n",
    "        if fusiontype == 'adasum':\n",
    "            adascale_param = las.layers.get_all_param_values(l_fuse, scaling_param=True)\n",
    "\n",
    "    if epoch >= VALIDATION_WINDOW and early_stop(val_window):\n",
    "        break\n",
    "\n",
    "    # learning rate decay\n",
    "    if epoch >= decay_start - 1:\n",
    "        lr.set_value(lr.get_value() * lr_decay)"
   ]
  },
  {
   "cell_type": "markdown",
   "metadata": {},
   "source": [
    "### Plot Training Results\n",
    "Plot the results from the training and confusion matrix. If the `fusiontype` option is set to `adasum` we display the final scaling parameters."
   ]
  },
  {
   "cell_type": "code",
   "execution_count": 49,
   "metadata": {
    "collapsed": false
   },
   "outputs": [
    {
     "name": "stdout",
     "output_type": "stream",
     "text": [
      "Best Model\n",
      "classification rate: 0.634615384615, validation loss: 1.28468763828\n",
      "confusion matrix: \n"
     ]
    },
    {
     "data": {
      "image/png": "[encoded data removed]",
      "text/plain": [
       "<matplotlib.figure.Figure at 0x113915d10>"
      ]
     },
     "metadata": {},
     "output_type": "display_data"
    }
   ],
   "source": [
    "letters = ['a', 'b', 'c', 'd', 'e', 'f', 'g',\n",
    "               'h', 'i', 'j', 'k', 'l', 'm', 'n',\n",
    "               'o', 'p', 'q', 'r', 's', 't', 'u',\n",
    "               'v', 'w', 'x', 'y', 'z']\n",
    "\n",
    "print('Best Model')\n",
    "print('classification rate: {}, validation loss: {}'.format(best_cr, best_val))\n",
    "if fusiontype == 'adasum':\n",
    "    print(\"final scaling params: {}\".format(adascale_param))\n",
    "print('confusion matrix: ')\n",
    "# plot_confusion_matrix(best_conf, letters, fmt='grid')\n",
    "plot_validation_cost(cost_train, cost_val, class_rate)"
   ]
  },
  {
   "cell_type": "code",
   "execution_count": null,
   "metadata": {
    "collapsed": true
   },
   "outputs": [],
   "source": []
  }
 ],
 "metadata": {
  "kernelspec": {
   "display_name": "Python 2",
   "language": "python",
   "name": "python2"
  },
  "language_info": {
   "codemirror_mode": {
    "name": "ipython",
    "version": 2
   },
   "file_extension": ".py",
   "mimetype": "text/x-python",
   "name": "python",
   "nbconvert_exporter": "python",
   "pygments_lexer": "ipython2",
   "version": "2.7.11"
  }
 },
 "nbformat": 4,
 "nbformat_minor": 0
}
